{
 "cells": [
  {
   "cell_type": "code",
   "execution_count": 4,
   "metadata": {
    "collapsed": true
   },
   "outputs": [],
   "source": [
    "run \"C:\\Users\\Charles Klewicki\\Google Drive\\school\\Graduate\\FPF Summer 2017\\PIV Python Scripts\\FPF_PIV_CODE\\Drummonds_Scripts\\PIV.py\""
   ]
  },
  {
   "cell_type": "code",
   "execution_count": 5,
   "metadata": {
    "collapsed": true
   },
   "outputs": [],
   "source": [
    "run \"C:\\Users\\Charles Klewicki\\Google Drive\\school\\Graduate\\FPF Summer 2017\\PIV Python Scripts\\FPF_PIV_CODE\\Drummonds_Scripts\\hotwire.py\""
   ]
  },
  {
   "cell_type": "code",
   "execution_count": 10,
   "metadata": {},
   "outputs": [
    {
     "name": "stdout",
     "output_type": "stream",
     "text": [
      "\r",
      "Reading In: |--------------------------------------------------| 0.0% Complete\r"
     ]
    },
    {
     "name": "stderr",
     "output_type": "stream",
     "text": [
      "C:\\Users\\Charles Klewicki\\Anaconda3\\lib\\site-packages\\numpy\\core\\fromnumeric.py:57: FutureWarning: reshape is deprecated and will raise in a subsequent release. Please use .values.reshape(...) instead\n",
      "  return getattr(obj, method)(*args, **kwds)\n"
     ]
    },
    {
     "name": "stdout",
     "output_type": "stream",
     "text": [
      "Reading In: |██████████████████████████████████████████████████| 100.0% Complete\n",
      "Done Read in!\n",
      "Mask Found!\n"
     ]
    },
    {
     "ename": "ValueError",
     "evalue": "negative dimensions are not allowed",
     "output_type": "error",
     "traceback": [
      "\u001b[1;31m---------------------------------------------------------------------------\u001b[0m",
      "\u001b[1;31mValueError\u001b[0m                                Traceback (most recent call last)",
      "\u001b[1;32m<ipython-input-10-d3717eb0cec4>\u001b[0m in \u001b[0;36m<module>\u001b[1;34m()\u001b[0m\n\u001b[0;32m     87\u001b[0m \u001b[0msizex_mask\u001b[0m \u001b[1;33m=\u001b[0m \u001b[0mmask\u001b[0m\u001b[1;33m[\u001b[0m\u001b[1;36m3\u001b[0m\u001b[1;33m]\u001b[0m \u001b[1;33m-\u001b[0m \u001b[0mmask\u001b[0m\u001b[1;33m[\u001b[0m\u001b[1;36m2\u001b[0m\u001b[1;33m]\u001b[0m \u001b[1;33m-\u001b[0m \u001b[0mside_error\u001b[0m\u001b[1;33m*\u001b[0m\u001b[1;36m2\u001b[0m\u001b[1;33m\u001b[0m\u001b[0m\n\u001b[0;32m     88\u001b[0m \u001b[0msizey_mask\u001b[0m \u001b[1;33m=\u001b[0m \u001b[0mmask\u001b[0m\u001b[1;33m[\u001b[0m\u001b[1;36m1\u001b[0m\u001b[1;33m]\u001b[0m \u001b[1;33m-\u001b[0m \u001b[0mmask\u001b[0m\u001b[1;33m[\u001b[0m\u001b[1;36m0\u001b[0m\u001b[1;33m]\u001b[0m\u001b[1;33m\u001b[0m\u001b[0m\n\u001b[1;32m---> 89\u001b[1;33m \u001b[0mUmask\u001b[0m \u001b[1;33m=\u001b[0m \u001b[0mnp\u001b[0m\u001b[1;33m.\u001b[0m\u001b[0mndarray\u001b[0m\u001b[1;33m(\u001b[0m\u001b[1;33m[\u001b[0m\u001b[0mnum_tests\u001b[0m\u001b[1;33m,\u001b[0m \u001b[0mnum_images\u001b[0m\u001b[1;33m-\u001b[0m\u001b[1;36m1\u001b[0m\u001b[1;33m,\u001b[0m \u001b[0msizey_mask\u001b[0m\u001b[1;33m,\u001b[0m \u001b[0msizex_mask\u001b[0m\u001b[1;33m]\u001b[0m\u001b[1;33m)\u001b[0m\u001b[1;33m\u001b[0m\u001b[0m\n\u001b[0m\u001b[0;32m     90\u001b[0m \u001b[0mVmask\u001b[0m \u001b[1;33m=\u001b[0m \u001b[0mnp\u001b[0m\u001b[1;33m.\u001b[0m\u001b[0mndarray\u001b[0m\u001b[1;33m(\u001b[0m\u001b[1;33m[\u001b[0m\u001b[0mnum_tests\u001b[0m\u001b[1;33m,\u001b[0m \u001b[0mnum_images\u001b[0m\u001b[1;33m-\u001b[0m\u001b[1;36m1\u001b[0m\u001b[1;33m,\u001b[0m \u001b[0msizey_mask\u001b[0m\u001b[1;33m,\u001b[0m \u001b[0msizex_mask\u001b[0m\u001b[1;33m]\u001b[0m\u001b[1;33m)\u001b[0m\u001b[1;33m\u001b[0m\u001b[0m\n\u001b[0;32m     91\u001b[0m \u001b[0mumean\u001b[0m \u001b[1;33m=\u001b[0m \u001b[0mnp\u001b[0m\u001b[1;33m.\u001b[0m\u001b[0mndarray\u001b[0m\u001b[1;33m(\u001b[0m\u001b[1;33m[\u001b[0m\u001b[0mnum_tests\u001b[0m\u001b[1;33m,\u001b[0m \u001b[0msizey_mask\u001b[0m\u001b[1;33m,\u001b[0m \u001b[0msizex_mask\u001b[0m\u001b[1;33m]\u001b[0m\u001b[1;33m)\u001b[0m\u001b[1;33m\u001b[0m\u001b[0m\n",
      "\u001b[1;31mValueError\u001b[0m: negative dimensions are not allowed"
     ]
    }
   ],
   "source": [
    "import pandas as pd\n",
    "import numpy as np\n",
    "import time\n",
    "import sys\n",
    "import h5py\n",
    "from scipy.signal import medfilt\n",
    "import matplotlib.pyplot as plt\n",
    "\n",
    "################################################################\n",
    "#   PURPOSE\n",
    "#   1. Readin in PIV data_sets\n",
    "#   2. Find Mask\n",
    "#   3. Resize\n",
    "#   4. Determine mean profiles and HO quantities\n",
    "################################################################\n",
    "\n",
    "def filt_images(tempU):\n",
    "    Umean = np.mean(np.mean(tempU))\n",
    "    STDmean = np.mean(np.var(tempU, axis=0))**(1/2)\n",
    "    len1 = len(tempU)\n",
    "    for j in range(0, len1):\n",
    "        temp_mean = np.mean(np.mean(tempU[j]))\n",
    "        if temp_mean > Umean + 2*STDmean:\n",
    "            tempU[j] = tempU[j]*np.nan\n",
    "        if temp_mean < Umean - 2*STDmean:\n",
    "            tempU[j] = tempU[j]*np.nan\n",
    "    return(tempU)\n",
    "\n",
    "\n",
    "## to work on ##\n",
    "################\n",
    "# -work to read in top line of PIV file such that size and units and be predetermined\n",
    "# determine better way to store PIV datasets\n",
    "\n",
    "## INITIAL CODE USED FOR READING IN\n",
    "\n",
    "#Parameter set\n",
    "date = '062317'\n",
    "filter_width = 21\n",
    "num_images = 10911\n",
    "sizex = 65\n",
    "sizey = 64\n",
    "walloffset = 2.22\n",
    "side_error = 2\n",
    "num_tests=10\n",
    "\n",
    "#list name of data set folders\n",
    "base_name = dict()\n",
    "#List the base name for each test to be read in and analyzed, names taken directly from folder\n",
    "base_name[0] = 'D:/test_062317/Cam_Date=170623_Time=132215_TR_SeqPIV_MP(2x32x32_50ov_ImgCorr)=unknown'\n",
    "\n",
    "\n",
    "#Initalize variables\n",
    "num_tests = len(base_name)\n",
    "U = np.ndarray([num_tests, num_images-1, sizey, sizex])\n",
    "V = np.ndarray([num_tests, num_images-1, sizey, sizex])\n",
    "u_filt = np.ndarray([num_tests, num_images-1, sizey, sizex])\n",
    "v_filt = np.ndarray([num_tests, num_images-1, sizey, sizex])\n",
    "umean = np.ndarray([num_tests, sizey, sizex])\n",
    "vmean = np.ndarray([num_tests, sizey, sizex])\n",
    "mask = np.zeros([num_tests, 3])\n",
    "umean_profile = dict()\n",
    "vmean_profile = dict()\n",
    "urms_profile = dict()\n",
    "vrms_profile = dict()\n",
    "uvprime_profile = dict()\n",
    "for j in base_name:\n",
    "    #Read in\n",
    "    [x, y, U[j], V[j]] = piv_readin_mod(base_name[j], num_images, sizey, sizex)\n",
    "    #filter out images that contain spurious vectors\n",
    "    U[j] = filt_images(U[j])\n",
    "    V[j] = filt_images(V[j])\n",
    "    #Filter data sets (median filter along axis=0 (through images))\n",
    "    #u_filt[j] = medfilt(U[j, :], kernel_size=[filter_width, 1, 1])\n",
    "    #v_filt[j] = medfilt(V[j, :], kernel_size=[filter_width, 1, 1])\n",
    "    u_filt[j] = U[j, :]\n",
    "    v_filt[j] = V[j, :]\n",
    "    #Obtain mean vecotr field\n",
    "    umean[j] = np.nanmean(u_filt[j], axis=0)\n",
    "    vmean[j] = np.nanmean(v_filt[j], axis=0)\n",
    "    #print('Done Reading')\n",
    "    #bar.finish()\n",
    "    #determine mask position\n",
    "tempmask = mask_loc(umean[j])\n",
    "mask = list(tempmask)\n",
    "## Resize vecotr field to crop out masked areas and\n",
    "# create new vectors which take out the masked areas and any side errors\n",
    "sizex_mask = mask[3] - mask[2] - side_error*2\n",
    "sizey_mask = mask[1] - mask[0]\n",
    "Umask = np.ndarray([num_tests, num_images-1, sizey_mask, sizex_mask])\n",
    "Vmask = np.ndarray([num_tests, num_images-1, sizey_mask, sizex_mask])\n",
    "umean = np.ndarray([num_tests, sizey_mask, sizex_mask])\n",
    "vmean = np.ndarray([num_tests, sizey_mask, sizex_mask])\n",
    "for j in base_name:\n",
    "    Umask[j] = -1*U[j][:, mask[0]:mask[1], int(mask[2]+side_error):int(mask[3]-side_error)]\n",
    "    Vmask[j] = V[j][:, mask[0]:mask[1], int(mask[2]+side_error):int(mask[3]-side_error)]\n",
    "    umean[j] = np.nanmean(Umask[j], axis=0)\n",
    "    vmean[j] = np.nanmean(Vmask[j], axis=0)\n",
    "\n",
    "## Determine RMS quantities ##\n",
    "uprime = np.ndarray([num_tests, num_images-1, sizey_mask, sizex_mask])\n",
    "vprime = np.ndarray([num_tests, num_images-1, sizey_mask, sizex_mask])\n",
    "uvprime  = np.ndarray([num_tests, num_images-1, sizey_mask, sizex_mask])\n",
    "uvprime_mean = np.ndarray([num_tests, sizey_mask, sizex_mask])\n",
    "urms = np.ndarray([num_tests, sizey_mask, sizex_mask])\n",
    "vrms = np.ndarray([num_tests, sizey_mask, sizex_mask])\n",
    "for j in range(0, num_tests):\n",
    "    for jj in range(0, 499):\n",
    "        uprime[j, jj] = ((Umask[j][jj]-umean[j]))\n",
    "        vprime[j, jj] = ((Vmask[j][jj]-vmean[j]))\n",
    "        uvprime[j, jj] = uprime[j, jj]*vprime[j, jj]\n",
    "    uvprime_mean[j] = np.nanmean(uvprime[j], axis=0)\n",
    "    urms[j] = np.nanmean(uprime[j]**2, axis=0)**(1/2)\n",
    "    vrms[j] = np.nanmean(vprime[j]**2, axis=0)**(1/2)\n",
    "\n",
    "## wall position adjustment ###########\n",
    "#convert to m and take off wall position as seen in images\n",
    "x = (x)/1000\n",
    "y = (y-walloffset)/1000\n",
    "xmask = x[ mask[2]:mask[3] ]\n",
    "ymask = y[ mask[0]:mask[1] ]\n",
    "## Create Mean Profiles #######\n",
    "for j in range(0, num_tests):\n",
    "    umean_profile[j] = np.mean(umean[j], axis=1)\n",
    "    vmean_profile[j] = np.mean(vmean[j], axis=1)\n",
    "    urms_profile[j] = np.mean(urms[j], axis=1)\n",
    "    vrms_profile[j] = np.mean(vrms[j], axis=1)\n",
    "    uvprime_profile[j] = np.mean(uvprime_mean[j], axis=1)\n",
    "\n",
    "## Average multiple profiles together\n",
    "#use this if multiple tests are performed at the same condition\n",
    "umean_profile_avg = np.zeros(len(umean_profile[0]))\n",
    "vmean_profile_avg = np.zeros(len(umean_profile[0]))\n",
    "urms_profile_avg = np.zeros(len(umean_profile[0]))\n",
    "vrms_profile_avg = np.zeros(len(umean_profile[0]))\n",
    "uvprime_profile_avg = np.zeros(len(umean_profile[0]))\n",
    "#average datasets together\n",
    "for j in range(0, num_tests):\n",
    "    umean_profile_avg = umean_profile_avg + umean_profile[j]\n",
    "    vmean_profile_avg = vmean_profile_avg + vmean_profile[j]\n",
    "    urms_profile_avg = urms_profile_avg + urms_profile[j]\n",
    "    vrms_profile_avg = vrms_profile_avg + vrms_profile[j]\n",
    "    uvprime_profile_avg = uvprime_profile_avg + uvprime_profile[j]\n",
    "#divide profiles by number of tests which were combined\n",
    "umean_profile_avg = umean_profile_avg / num_tests\n",
    "vmean_profile_avg = vmean_profile_avg / num_tests\n",
    "urms_profile_avg = urms_profile_avg / num_tests\n",
    "vrms_profile_avg = vrms_profile_avg / num_tests\n",
    "uvprime_profile_avg = uvprime_profile_avg / num_tests\n",
    "\n",
    "##calculate conf interval\n",
    "conf = dict()\n",
    "Neff = 10\n",
    "conf['u'] =  (np.nanmean(np.nanmean(np.nanvar(Umask, axis=1), axis=0), axis=1))**(1/2) * (1/Neff)**(1/2)\n",
    "conf['v'] =  (np.nanmean(np.nanmean(np.nanvar(Vmask, axis=1), axis=0), axis=1))**(1/2) * (1/Neff)**(1/2)\n",
    "conf['urms'] =  (np.nanmean(np.nanvar(urms, axis=0), axis=1))**(1/2) * (1/(2*Neff-1))**(1/2)\n",
    "conf['vrms'] =  (np.nanmean(np.nanvar(vrms, axis=0), axis=1))**(1/2) * (1/(2*Neff-1))**(1/2)\n",
    "sigma_u = (np.nanmean(np.nanvar(Umask, axis=1), axis=0))**(1/2)\n",
    "sigma_v = (np.nanmean(np.nanvar(Vmask, axis=1), axis=0))**(1/2)\n",
    "conf['uvprime'] = np.nanmean(sigma_u * sigma_v * (1+ (np.nanmean(uvprime_mean, axis=0)/(sigma_u * sigma_v))**2 / (Neff - 1))**(1/2), axis=1)\n",
    "\n",
    "###  WRITE OUT DATA\n",
    "####################\n",
    "#open hdf5 file\n",
    "hdf = pd.HDFStore('D:/test_'+date+'/PIV_' + date + '.h5')\n",
    "hdf.put('umean_profile_avg', pd.DataFrame(umean_profile_avg))\n",
    "hdf.put('vmean_profile_avg', pd.DataFrame(vmean_profile_avg))\n",
    "hdf.put('urms_profile_avg', pd.DataFrame(urms_profile_avg))\n",
    "hdf.put('vrms_profile_avg', pd.DataFrame(vrms_profile_avg))\n",
    "hdf.put('uvprime_profile_avg', pd.DataFrame(uvprime_profile_avg))\n",
    "hdf.put('confidence', pd.DataFrame(conf))\n",
    "hdf.put('xaxis', pd.Series(xmask))\n",
    "hdf.put('yaxis', pd.Series(ymask))\n",
    "hdf.put('mask', pd.DataFrame(mask))\n",
    "hdf.close()\n",
    "\n",
    "print('Data Saved!')\n"
   ]
  },
  {
   "cell_type": "code",
   "execution_count": 2,
   "metadata": {
    "scrolled": false
   },
   "outputs": [],
   "source": [
    "run \"C:\\Users\\Charles Klewicki\\Google Drive\\school\\Graduate\\FPF Summer 2017\\PIV Python Scripts\\FPF_PIV_CODE\\Drummonds_Scripts\\PIV_inner.py\""
   ]
  },
  {
   "cell_type": "code",
   "execution_count": null,
   "metadata": {
    "collapsed": true
   },
   "outputs": [],
   "source": [
    "date = '062317'\n",
    "num_tests = 10\n",
    "sizex = 65  #Num vertical points\n",
    "sizey = 64  #num horizontal points\n",
    "name = 'D:/test_062317/PIV_' + date + '.h5'\n",
    "utau = [.14]\n",
    "inner(date,num_tests,sizex,sizey,name,utau)"
   ]
  },
  {
   "cell_type": "code",
   "execution_count": 1,
   "metadata": {
    "scrolled": false
   },
   "outputs": [],
   "source": [
    "run \"C:\\Users\\Charles Klewicki\\Google Drive\\school\\Graduate\\FPF Summer 2017\\PIV Python Scripts\\FPF_PIV_CODE\\Drummonds_Scripts\\PIV_outer.py\""
   ]
  },
  {
   "cell_type": "code",
   "execution_count": null,
   "metadata": {
    "collapsed": true
   },
   "outputs": [],
   "source": [
    "outer(date,num_tests,sizex,sizey,name)"
   ]
  }
 ],
 "metadata": {
  "kernelspec": {
   "display_name": "Python 3",
   "language": "python",
   "name": "python3"
  },
  "language_info": {
   "codemirror_mode": {
    "name": "ipython",
    "version": 3
   },
   "file_extension": ".py",
   "mimetype": "text/x-python",
   "name": "python",
   "nbconvert_exporter": "python",
   "pygments_lexer": "ipython3",
   "version": "3.6.1"
  }
 },
 "nbformat": 4,
 "nbformat_minor": 2
}
